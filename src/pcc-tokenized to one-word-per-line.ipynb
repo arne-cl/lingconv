{
 "metadata": {
  "name": "pcc-tokenized to one-word-per-line"
 },
 "nbformat": 3,
 "nbformat_minor": 0,
 "worksheets": [
  {
   "cells": [
    {
     "cell_type": "markdown",
     "metadata": {},
     "source": "# Tokenisierungsprobleme im PCC #\n\n## Plaintext-Format *.tok.txt ##\n\n1. W\u00f6rter/Satzzeichen durch Whitespace getrennt\n2. S\u00e4tze werden nicht weiter voneinander getrennt! Ausnahme: auf \u00dcberschrift folgt \"\\n\\n\"\n3. machen W\u00f6rter sind durch sog. Soft-Hyphens \"\\xc2\\xad\" getrennt!\n   - Soft-Hypens haben die Stringl\u00e4nge 2\n   - sind unsichtbar, entsprechen visuell dem leeren String, d.h. \"\" und \"\\xc2\\xad\" sind optisch nicht zu unterscheiden"
    },
    {
     "cell_type": "code",
     "collapsed": false,
     "input": "soft_hyphen = \"\\xc2\\xad\"\nprint soft_hyphen; print len(soft_hyphen)\ntest = \"werden soll \\xc2\\xad auf Kosten\"\nprint test, len(test)",
     "language": "python",
     "metadata": {},
     "outputs": [
      {
       "output_type": "stream",
       "stream": "stdout",
       "text": "\u00ad\n2\nwerden soll \u00ad auf Kosten 25\n"
      }
     ],
     "prompt_number": 91
    },
    {
     "cell_type": "code",
     "collapsed": false,
     "input": "cd ~/repos/anaphora_graphs/data/pcc176/tokenized",
     "language": "python",
     "metadata": {},
     "outputs": [
      {
       "output_type": "stream",
       "stream": "stdout",
       "text": "/home/arne/repos/anaphora_graphs/data/pcc176/tokenized\n"
      }
     ],
     "prompt_number": 59
    },
    {
     "cell_type": "code",
     "collapsed": false,
     "input": "filenames = !ls *.tok.txt\noutput_dir = \"/home/arne/repos/anaphora_graphs/data/pcc176/owpl\"",
     "language": "python",
     "metadata": {},
     "outputs": [],
     "prompt_number": 131
    },
    {
     "cell_type": "code",
     "collapsed": false,
     "input": "import re\nimport os\n\nSENTENCE_SPLIT_REGEX = re.compile(' (\\.|!|\\?) ') # find sentence endings in tokenized text, e.g. ' . ' or ' ! '\nWORD_SPLIT_REGEX = re.compile('( |\\xc2\\xad)+') # words are sometimes separated by a combination of whitespaces and soft-hyphen\n\nfor fname in filenames[0:1]:\n    with open(fname, 'r') as infile:\n        # all sentence endings are signalled by '\\n\\n'\n        text_with_newlines = re.sub(SENTENCE_SPLIT_REGEX, r' \\1', infile.read())\n        lines = re.split(WORD_SPLIT_REGEX, text_with_newlines)\n        print lines\n    \n        outname = os.path.join(output_dir, fname[:-8] + '.owpl')\n        with open(outname, 'w') as outfile:\n            for line in lines:\n                print line\n                #outfile.write(line)",
     "language": "python",
     "metadata": {},
     "outputs": [
      {
       "output_type": "stream",
       "stream": "stdout",
       "text": "['Auf', ' ', 'Eis', ' ', 'gelegt', ' ', '\\n\\nDagmar', ' ', 'Ziegler', ' ', 'sitzt', ' ', 'in', ' ', 'der', ' ', 'Schuldenfalle', ' ', '.Auf', ' ', 'Grund', ' ', 'der', ' ', 'dramatischen', ' ', 'Kassenlage', ' ', 'in', ' ', 'Brandenburg', ' ', 'hat', ' ', 'sie', ' ', 'jetzt', ' ', 'eine', ' ', 'seit', ' ', 'mehr', ' ', 'als', ' ', 'einem', ' ', 'Jahr', ' ', 'erarbeitete', ' ', 'Kabinettsvorlage', ' ', '\\xc3\\xbcberraschend', ' ', 'auf', ' ', 'Eis', ' ', 'gelegt', ' ', 'und', ' ', 'vorgeschlagen', ' ', ',', ' ', 'erst', ' ', '2003', ' ', 'dar\\xc3\\xbcber', ' ', 'zu', ' ', 'entscheiden', ' ', '.\\xc3\\x9cberraschend', ' ', ',', ' ', 'weil', ' ', 'das', ' ', 'Finanz-', ' ', 'und', ' ', 'das', ' ', 'Bildungsressort', ' ', 'das', ' ', 'Lehrerpersonalkonzept', ' ', 'gemeinsam', ' ', 'entwickelt', ' ', 'hatten', ' ', '.Der', ' ', 'R\\xc3\\xbcckzieher', ' ', 'der', ' ', 'Finanzministerin', ' ', 'ist', ' ', 'aber', ' ', 'verst\\xc3\\xa4ndlich', ' ', '.Es', ' ', 'd\\xc3\\xbcrfte', ' ', 'derzeit', ' ', 'schwer', ' ', 'zu', ' ', 'vermitteln', ' ', 'sein', ' ', ',', ' ', 'weshalb', ' ', 'ein', ' ', 'Ressort', ' ', 'pauschal', ' ', 'von', ' ', 'k\\xc3\\xbcnftigen', ' ', 'Einsparungen', ' ', 'ausgenommen', ' ', 'werden', ' ', 'soll', ' ', 'auf', ' ', 'Kosten', ' ', 'der', ' ', 'anderen', ' ', '.Reiches', ' ', 'Ministerkollegen', ' ', 'werden', ' ', 'mit', ' ', 'Argusaugen', ' ', 'dar\\xc3\\xbcber', ' ', 'wachen', ' ', ',', ' ', 'dass', ' ', 'das', ' ', 'Konzept', ' ', 'wasserdicht', ' ', 'ist', ' ', '.Tats\\xc3\\xa4chlich', ' ', 'gibt', ' ', 'es', ' ', 'noch', ' ', 'etliche', ' ', 'offene', ' ', 'Fragen', ' ', '.So', ' ', 'ist', ' ', 'etwa', ' ', 'unklar', ' ', ',', ' ', 'wer', ' ', 'Abfindungen', ' ', 'erhalten', ' ', 'soll', ' ', ',', ' ', 'oder', ' ', 'was', ' ', 'passiert', ' ', ',', ' ', 'wenn', ' ', 'zu', ' ', 'wenig', ' ', 'Lehrer', ' ', 'die', ' ', 'Angebote', ' ', 'des', ' ', 'vorzeitigen', ' ', 'Ausstiegs', ' ', 'nutzen', ' ', '.Dennoch', ' ', 'gibt', ' ', 'es', ' ', 'zu', ' ', 'Reiches', ' ', 'Personalpapier', ' ', 'eigentlich', ' ', 'keine', ' ', 'Alternative', ' ', '.Das', ' ', 'Land', ' ', 'hat', ' ', 'k\\xc3\\xbcnftig', ' ', 'zu', ' ', 'wenig', ' ', 'Arbeit', ' ', 'f\\xc3\\xbcr', ' ', 'zu', ' ', 'viele', ' ', 'P\\xc3\\xa4dagogen', ' ', '.Und', ' ', 'die', ' ', 'Zeit', ' ', 'dr\\xc3\\xa4ngt', ' ', '.Der', ' ', 'gro\\xc3\\x9fe', ' ', 'Einbruch', ' ', 'der', ' ', 'Sch\\xc3\\xbclerzahlen', ' ', 'an', ' ', 'den', ' ', 'weiterf\\xc3\\xbchrenden', ' ', 'Schulen', ' ', 'beginnt', ' ', 'bereits', ' ', 'im', ' ', 'Herbst', ' ', '2003', ' ', '.Die', ' ', 'Regierung', ' ', 'muss', ' ', 'sich', ' ', 'entscheiden', ' ', ',', ' ', 'und', ' ', 'zwar', ' ', 'schnell', ' ', '.Entweder', ' ', 'sparen', ' ', 'um', ' ', 'jeden', ' ', 'Preis', ' ', 'oder', ' ', 'Priorit\\xc3\\xa4t', ' ', 'f\\xc3\\xbcr', ' ', 'die', ' ', 'Bildung', ' ', '.']\nAuf\n \nEis\n \ngelegt\n \n\n\nDagmar\n \nZiegler\n \nsitzt\n \nin\n \nder\n \nSchuldenfalle\n \n.Auf\n \nGrund\n \nder\n \ndramatischen\n \nKassenlage\n \nin\n \nBrandenburg\n \nhat\n \nsie\n \njetzt\n \neine\n \nseit\n \nmehr\n \nals\n \neinem\n \nJahr\n \nerarbeitete\n \nKabinettsvorlage\n \n\u00fcberraschend\n \nauf\n \nEis\n \ngelegt\n \nund\n \nvorgeschlagen\n \n,\n \nerst\n \n2003\n \ndar\u00fcber\n \nzu\n \nentscheiden\n \n.\u00dcberraschend\n \n,\n \nweil\n \ndas\n \nFinanz-\n \nund\n \ndas\n \nBildungsressort\n \ndas\n \nLehrerpersonalkonzept\n \ngemeinsam\n \nentwickelt\n \nhatten\n \n.Der\n \nR\u00fcckzieher\n \nder\n \nFinanzministerin\n \nist\n \naber\n \nverst\u00e4ndlich\n \n.Es\n \nd\u00fcrfte\n \nderzeit\n \nschwer\n \nzu\n \nvermitteln\n \nsein\n \n,\n \nweshalb\n \nein\n \nRessort\n \npauschal\n \nvon\n \nk\u00fcnftigen\n \nEinsparungen\n \nausgenommen\n \nwerden\n \nsoll\n \nauf\n \nKosten\n \nder\n \nanderen\n \n.Reiches\n \nMinisterkollegen\n \nwerden\n \nmit\n \nArgusaugen\n \ndar\u00fcber\n \nwachen\n \n,\n \ndass\n \ndas\n \nKonzept\n \nwasserdicht\n \nist\n \n.Tats\u00e4chlich\n \ngibt\n \nes\n \nnoch\n \netliche\n \noffene\n \nFragen\n \n.So\n \nist\n \netwa\n \nunklar\n \n,\n \nwer\n \nAbfindungen\n \nerhalten\n \nsoll\n \n,\n \noder\n \nwas\n \npassiert\n \n,\n \nwenn\n \nzu\n \nwenig\n \nLehrer\n \ndie\n \nAngebote\n \ndes\n \nvorzeitigen\n \nAusstiegs\n \nnutzen\n \n.Dennoch\n \ngibt\n \nes\n \nzu\n \nReiches\n \nPersonalpapier\n \neigentlich\n \nkeine\n \nAlternative\n \n.Das\n \nLand\n \nhat\n \nk\u00fcnftig\n \nzu\n \nwenig\n \nArbeit\n \nf\u00fcr\n \nzu\n \nviele\n \nP\u00e4dagogen\n \n.Und\n \ndie\n \nZeit\n \ndr\u00e4ngt\n \n.Der\n \ngro\u00dfe\n \nEinbruch\n \nder\n \nSch\u00fclerzahlen\n \nan\n \nden\n \nweiterf\u00fchrenden\n \nSchulen\n \nbeginnt\n \nbereits\n \nim\n \nHerbst\n \n2003\n \n.Die\n \nRegierung\n \nmuss\n \nsich\n \nentscheiden\n \n,\n \nund\n \nzwar\n \nschnell\n \n.Entweder\n \nsparen\n \num\n \njeden\n \nPreis\n \noder\n \nPriorit\u00e4t\n \nf\u00fcr\n \ndie\n \nBildung\n \n.\n"
      }
     ],
     "prompt_number": 140
    },
    {
     "cell_type": "code",
     "collapsed": false,
     "input": "with open('/home/arne/repos/anaphora_graphs/data/pcc176/owpl/maz-00001.owpl', 'w') as outfile:\n    pass\nprint os.path.join(\"~/repos/anaphora_graphs/data/pcc176/owpl\", 'foobar')\nprint os.path.abspath(\"~/repos/anaphora_graphs/data/pcc176/owpl\")",
     "language": "python",
     "metadata": {},
     "outputs": [
      {
       "output_type": "stream",
       "stream": "stdout",
       "text": "~/repos/anaphora_graphs/data/pcc176/owpl/foobar\n/home/arne/repos/anaphora_graphs/data/pcc176/tokenized/~/repos/anaphora_graphs/data/pcc176/owpl\n"
      }
     ],
     "prompt_number": 130
    },
    {
     "cell_type": "code",
     "collapsed": false,
     "input": "n = 'maz-00001.tok.txt'\nprint n[:-8] # strip '.tok.txt'",
     "language": "python",
     "metadata": {},
     "outputs": [
      {
       "output_type": "stream",
       "stream": "stdout",
       "text": "maz-00001\n"
      }
     ],
     "prompt_number": 101
    }
   ],
   "metadata": {}
  }
 ]
}